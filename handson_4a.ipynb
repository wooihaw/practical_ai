{
  "nbformat": 4,
  "nbformat_minor": 0,
  "metadata": {
    "kernelspec": {
      "display_name": "Python 3",
      "language": "python",
      "name": "python3"
    },
    "language_info": {
      "codemirror_mode": {
        "name": "ipython",
        "version": 3
      },
      "file_extension": ".py",
      "mimetype": "text/x-python",
      "name": "python",
      "nbconvert_exporter": "python",
      "pygments_lexer": "ipython3",
      "version": "3.8.5"
    },
    "colab": {
      "name": "handson_4a.ipynb",
      "provenance": [],
      "include_colab_link": true
    }
  },
  "cells": [
    {
      "cell_type": "markdown",
      "metadata": {
        "id": "view-in-github",
        "colab_type": "text"
      },
      "source": [
        "<a href=\"https://colab.research.google.com/github/wooihaw/practical_ai/blob/main/handson_4a.ipynb\" target=\"_parent\"><img src=\"https://colab.research.google.com/assets/colab-badge.svg\" alt=\"Open In Colab\"/></a>"
      ]
    },
    {
      "cell_type": "code",
      "metadata": {
        "id": "s_NPifhBmalg",
        "outputId": "323970f6-9c63-48fa-bf85-fdb18ff073ca",
        "colab": {
          "base_uri": "https://localhost:8080/"
        }
      },
      "source": [
        "! cd /content/\n",
        "!git clone https://github.com/wooihaw/practical_ai.git"
      ],
      "execution_count": 1,
      "outputs": [
        {
          "output_type": "stream",
          "text": [
            "Cloning into 'practical_ai'...\n",
            "remote: Enumerating objects: 48, done.\u001b[K\n",
            "remote: Counting objects: 100% (48/48), done.\u001b[K\n",
            "remote: Compressing objects: 100% (43/43), done.\u001b[K\n",
            "remote: Total 48 (delta 20), reused 13 (delta 3), pack-reused 0\u001b[K\n",
            "Unpacking objects: 100% (48/48), done.\n"
          ],
          "name": "stdout"
        }
      ]
    },
    {
      "cell_type": "code",
      "metadata": {
        "id": "GG2Ybr_QmQk1"
      },
      "source": [
        "%matplotlib inline\n",
        "import warnings\n",
        "warnings.filterwarnings('ignore')"
      ],
      "execution_count": 2,
      "outputs": []
    },
    {
      "cell_type": "code",
      "metadata": {
        "id": "iP2IZTHtmQk5"
      },
      "source": [
        "#Step 1: Load libraries and seed random number generator\n",
        "from tensorflow.keras.models import Sequential\n",
        "from tensorflow.keras.layers import Dense\n",
        "from sklearn.model_selection import train_test_split as split\n",
        "from tensorflow.keras.optimizers import SGD\n",
        "import numpy\n",
        "# To do: Import StandardScaler from sklearn.preprocessing\n",
        "\n",
        "# To do: Import EarlyStopping from tensorflow.keras.callbacks\n",
        "\n",
        "# fix random seed for reproducibility\n",
        "numpy.random.seed(7)"
      ],
      "execution_count": 3,
      "outputs": []
    },
    {
      "cell_type": "code",
      "metadata": {
        "id": "q5xjTUq5mQk6"
      },
      "source": [
        "#Step 2: Load the dataset and split it into train & test sets\n",
        "dataset = numpy.loadtxt(\"practical_ai/pima-indians-diabetes.csv\", delimiter=\",\")\n",
        "# split into input (X) and output (Y) variables\n",
        "X = dataset[:,:-1]\n",
        "y = dataset[:,-1]\n",
        "test_size = 0.33\n",
        "X_train, X_test, y_train, y_test = split(X, y, test_size=test_size, random_state=7)\n",
        "\n",
        "# To do: Scale fetures using StandardSCaler\n"
      ],
      "execution_count": 4,
      "outputs": []
    },
    {
      "cell_type": "code",
      "metadata": {
        "id": "2848nySMmQk7"
      },
      "source": [
        "#Step 3: Define the neural network model\n",
        "model = Sequential()\n",
        "model.add(Dense(12, input_dim=8, activation='relu'))\n",
        "model.add(Dense(8, activation='relu'))\n",
        "model.add(Dense(1, activation='sigmoid'))"
      ],
      "execution_count": 5,
      "outputs": []
    },
    {
      "cell_type": "code",
      "metadata": {
        "id": "TEYpb2ADmQk7"
      },
      "source": [
        "#Step 4: Compile the neural network model\n",
        "model.compile(loss='binary_crossentropy', optimizer=SGD(lr=0.01), metrics=['accuracy'])"
      ],
      "execution_count": 6,
      "outputs": []
    },
    {
      "cell_type": "code",
      "metadata": {
        "scrolled": true,
        "id": "LFfYyNuamQk7",
        "outputId": "8f69bfd6-0fd0-4cc3-a567-53742b207806",
        "colab": {
          "base_uri": "https://localhost:8080/"
        }
      },
      "source": [
        "#Step 5: Fit the neural network to the dataset\n",
        "# To do: Add early stopping\n",
        "history = model.fit(X_train, y_train, validation_data=(X_test, y_test), epochs=100, batch_size=8)"
      ],
      "execution_count": 7,
      "outputs": [
        {
          "output_type": "stream",
          "text": [
            "Epoch 1/100\n",
            "65/65 [==============================] - 1s 11ms/step - loss: 2.0223 - accuracy: 0.5754 - val_loss: 0.6777 - val_accuracy: 0.6378\n",
            "Epoch 2/100\n",
            "65/65 [==============================] - 0s 2ms/step - loss: 0.6931 - accuracy: 0.6521 - val_loss: 0.6566 - val_accuracy: 0.6457\n",
            "Epoch 3/100\n",
            "65/65 [==============================] - 0s 2ms/step - loss: 0.6661 - accuracy: 0.6381 - val_loss: 0.6431 - val_accuracy: 0.6535\n",
            "Epoch 4/100\n",
            "65/65 [==============================] - 0s 3ms/step - loss: 0.6596 - accuracy: 0.6534 - val_loss: 0.6467 - val_accuracy: 0.6496\n",
            "Epoch 5/100\n",
            "65/65 [==============================] - 0s 2ms/step - loss: 0.6623 - accuracy: 0.6738 - val_loss: 0.6376 - val_accuracy: 0.6417\n",
            "Epoch 6/100\n",
            "65/65 [==============================] - 0s 3ms/step - loss: 0.6393 - accuracy: 0.6813 - val_loss: 0.6359 - val_accuracy: 0.6339\n",
            "Epoch 7/100\n",
            "65/65 [==============================] - 0s 2ms/step - loss: 0.6137 - accuracy: 0.6837 - val_loss: 0.6733 - val_accuracy: 0.6339\n",
            "Epoch 8/100\n",
            "65/65 [==============================] - 0s 2ms/step - loss: 0.6285 - accuracy: 0.6650 - val_loss: 0.6259 - val_accuracy: 0.6535\n",
            "Epoch 9/100\n",
            "65/65 [==============================] - 0s 2ms/step - loss: 0.6259 - accuracy: 0.6873 - val_loss: 0.6259 - val_accuracy: 0.6535\n",
            "Epoch 10/100\n",
            "65/65 [==============================] - 0s 2ms/step - loss: 0.6205 - accuracy: 0.6741 - val_loss: 0.6292 - val_accuracy: 0.6575\n",
            "Epoch 11/100\n",
            "65/65 [==============================] - 0s 2ms/step - loss: 0.6060 - accuracy: 0.7122 - val_loss: 0.6219 - val_accuracy: 0.6535\n",
            "Epoch 12/100\n",
            "65/65 [==============================] - 0s 3ms/step - loss: 0.6126 - accuracy: 0.6810 - val_loss: 0.6503 - val_accuracy: 0.6654\n",
            "Epoch 13/100\n",
            "65/65 [==============================] - 0s 2ms/step - loss: 0.6001 - accuracy: 0.6909 - val_loss: 0.6168 - val_accuracy: 0.6654\n",
            "Epoch 14/100\n",
            "65/65 [==============================] - 0s 3ms/step - loss: 0.5832 - accuracy: 0.7029 - val_loss: 0.6151 - val_accuracy: 0.6575\n",
            "Epoch 15/100\n",
            "65/65 [==============================] - 0s 2ms/step - loss: 0.5614 - accuracy: 0.7380 - val_loss: 0.6283 - val_accuracy: 0.6496\n",
            "Epoch 16/100\n",
            "65/65 [==============================] - 0s 2ms/step - loss: 0.5927 - accuracy: 0.6662 - val_loss: 0.6114 - val_accuracy: 0.6732\n",
            "Epoch 17/100\n",
            "65/65 [==============================] - 0s 2ms/step - loss: 0.6145 - accuracy: 0.6702 - val_loss: 0.6186 - val_accuracy: 0.6575\n",
            "Epoch 18/100\n",
            "65/65 [==============================] - 0s 2ms/step - loss: 0.5790 - accuracy: 0.6803 - val_loss: 0.6128 - val_accuracy: 0.6693\n",
            "Epoch 19/100\n",
            "65/65 [==============================] - 0s 2ms/step - loss: 0.5837 - accuracy: 0.7055 - val_loss: 0.6120 - val_accuracy: 0.6732\n",
            "Epoch 20/100\n",
            "65/65 [==============================] - 0s 2ms/step - loss: 0.6308 - accuracy: 0.6441 - val_loss: 0.6040 - val_accuracy: 0.6575\n",
            "Epoch 21/100\n",
            "65/65 [==============================] - 0s 2ms/step - loss: 0.5908 - accuracy: 0.6929 - val_loss: 0.6143 - val_accuracy: 0.6535\n",
            "Epoch 22/100\n",
            "65/65 [==============================] - 0s 3ms/step - loss: 0.6108 - accuracy: 0.6648 - val_loss: 0.6141 - val_accuracy: 0.6575\n",
            "Epoch 23/100\n",
            "65/65 [==============================] - 0s 2ms/step - loss: 0.5962 - accuracy: 0.7047 - val_loss: 0.6336 - val_accuracy: 0.6614\n",
            "Epoch 24/100\n",
            "65/65 [==============================] - 0s 2ms/step - loss: 0.5983 - accuracy: 0.6983 - val_loss: 0.6555 - val_accuracy: 0.6614\n",
            "Epoch 25/100\n",
            "65/65 [==============================] - 0s 2ms/step - loss: 0.5747 - accuracy: 0.7081 - val_loss: 0.6144 - val_accuracy: 0.6732\n",
            "Epoch 26/100\n",
            "65/65 [==============================] - 0s 2ms/step - loss: 0.6110 - accuracy: 0.6475 - val_loss: 0.6131 - val_accuracy: 0.6654\n",
            "Epoch 27/100\n",
            "65/65 [==============================] - 0s 2ms/step - loss: 0.5458 - accuracy: 0.7214 - val_loss: 0.6378 - val_accuracy: 0.6575\n",
            "Epoch 28/100\n",
            "65/65 [==============================] - 0s 2ms/step - loss: 0.5825 - accuracy: 0.6999 - val_loss: 0.6085 - val_accuracy: 0.6732\n",
            "Epoch 29/100\n",
            "65/65 [==============================] - 0s 3ms/step - loss: 0.5796 - accuracy: 0.6661 - val_loss: 0.6111 - val_accuracy: 0.6693\n",
            "Epoch 30/100\n",
            "65/65 [==============================] - 0s 3ms/step - loss: 0.5792 - accuracy: 0.6998 - val_loss: 0.6161 - val_accuracy: 0.6654\n",
            "Epoch 31/100\n",
            "65/65 [==============================] - 0s 3ms/step - loss: 0.5508 - accuracy: 0.7161 - val_loss: 0.6154 - val_accuracy: 0.6654\n",
            "Epoch 32/100\n",
            "65/65 [==============================] - 0s 2ms/step - loss: 0.6007 - accuracy: 0.6745 - val_loss: 0.6780 - val_accuracy: 0.5709\n",
            "Epoch 33/100\n",
            "65/65 [==============================] - 0s 3ms/step - loss: 0.6077 - accuracy: 0.6568 - val_loss: 0.6076 - val_accuracy: 0.6693\n",
            "Epoch 34/100\n",
            "65/65 [==============================] - 0s 2ms/step - loss: 0.5803 - accuracy: 0.7130 - val_loss: 0.6110 - val_accuracy: 0.6732\n",
            "Epoch 35/100\n",
            "65/65 [==============================] - 0s 2ms/step - loss: 0.5742 - accuracy: 0.7005 - val_loss: 0.6608 - val_accuracy: 0.6614\n",
            "Epoch 36/100\n",
            "65/65 [==============================] - 0s 3ms/step - loss: 0.6055 - accuracy: 0.6957 - val_loss: 0.6267 - val_accuracy: 0.6654\n",
            "Epoch 37/100\n",
            "65/65 [==============================] - 0s 2ms/step - loss: 0.5959 - accuracy: 0.6677 - val_loss: 0.6170 - val_accuracy: 0.6535\n",
            "Epoch 38/100\n",
            "65/65 [==============================] - 0s 2ms/step - loss: 0.5798 - accuracy: 0.7127 - val_loss: 0.6158 - val_accuracy: 0.6732\n",
            "Epoch 39/100\n",
            "65/65 [==============================] - 0s 2ms/step - loss: 0.5631 - accuracy: 0.6847 - val_loss: 0.6274 - val_accuracy: 0.6614\n",
            "Epoch 40/100\n",
            "65/65 [==============================] - 0s 2ms/step - loss: 0.5758 - accuracy: 0.6889 - val_loss: 0.6231 - val_accuracy: 0.6378\n",
            "Epoch 41/100\n",
            "65/65 [==============================] - 0s 3ms/step - loss: 0.5655 - accuracy: 0.7152 - val_loss: 0.6102 - val_accuracy: 0.6693\n",
            "Epoch 42/100\n",
            "65/65 [==============================] - 0s 2ms/step - loss: 0.5535 - accuracy: 0.7233 - val_loss: 0.6117 - val_accuracy: 0.6654\n",
            "Epoch 43/100\n",
            "65/65 [==============================] - 0s 3ms/step - loss: 0.5618 - accuracy: 0.7155 - val_loss: 0.6277 - val_accuracy: 0.6693\n",
            "Epoch 44/100\n",
            "65/65 [==============================] - 0s 2ms/step - loss: 0.5363 - accuracy: 0.7233 - val_loss: 0.6241 - val_accuracy: 0.6535\n",
            "Epoch 45/100\n",
            "65/65 [==============================] - 0s 2ms/step - loss: 0.5693 - accuracy: 0.6987 - val_loss: 0.6131 - val_accuracy: 0.6654\n",
            "Epoch 46/100\n",
            "65/65 [==============================] - 0s 2ms/step - loss: 0.5598 - accuracy: 0.7242 - val_loss: 0.6204 - val_accuracy: 0.6535\n",
            "Epoch 47/100\n",
            "65/65 [==============================] - 0s 2ms/step - loss: 0.5721 - accuracy: 0.7065 - val_loss: 0.6148 - val_accuracy: 0.6614\n",
            "Epoch 48/100\n",
            "65/65 [==============================] - 0s 2ms/step - loss: 0.5465 - accuracy: 0.7306 - val_loss: 0.6123 - val_accuracy: 0.6654\n",
            "Epoch 49/100\n",
            "65/65 [==============================] - 0s 2ms/step - loss: 0.5904 - accuracy: 0.6721 - val_loss: 0.6150 - val_accuracy: 0.6654\n",
            "Epoch 50/100\n",
            "65/65 [==============================] - 0s 2ms/step - loss: 0.6023 - accuracy: 0.6709 - val_loss: 0.6483 - val_accuracy: 0.6260\n",
            "Epoch 51/100\n",
            "65/65 [==============================] - 0s 2ms/step - loss: 0.5347 - accuracy: 0.7301 - val_loss: 0.6086 - val_accuracy: 0.6614\n",
            "Epoch 52/100\n",
            "65/65 [==============================] - 0s 2ms/step - loss: 0.5567 - accuracy: 0.7246 - val_loss: 0.6252 - val_accuracy: 0.6417\n",
            "Epoch 53/100\n",
            "65/65 [==============================] - 0s 2ms/step - loss: 0.5627 - accuracy: 0.7057 - val_loss: 0.6281 - val_accuracy: 0.6614\n",
            "Epoch 54/100\n",
            "65/65 [==============================] - 0s 2ms/step - loss: 0.6035 - accuracy: 0.6697 - val_loss: 0.6202 - val_accuracy: 0.6575\n",
            "Epoch 55/100\n",
            "65/65 [==============================] - 0s 2ms/step - loss: 0.5646 - accuracy: 0.7212 - val_loss: 0.6116 - val_accuracy: 0.6654\n",
            "Epoch 56/100\n",
            "65/65 [==============================] - 0s 2ms/step - loss: 0.5771 - accuracy: 0.6909 - val_loss: 0.6426 - val_accuracy: 0.6457\n",
            "Epoch 57/100\n",
            "65/65 [==============================] - 0s 3ms/step - loss: 0.5703 - accuracy: 0.6885 - val_loss: 0.6283 - val_accuracy: 0.6457\n",
            "Epoch 58/100\n",
            "65/65 [==============================] - 0s 2ms/step - loss: 0.5895 - accuracy: 0.6618 - val_loss: 0.6295 - val_accuracy: 0.6417\n",
            "Epoch 59/100\n",
            "65/65 [==============================] - 0s 3ms/step - loss: 0.5509 - accuracy: 0.7151 - val_loss: 0.6179 - val_accuracy: 0.6732\n",
            "Epoch 60/100\n",
            "65/65 [==============================] - 0s 2ms/step - loss: 0.5893 - accuracy: 0.6896 - val_loss: 0.6212 - val_accuracy: 0.6535\n",
            "Epoch 61/100\n",
            "65/65 [==============================] - 0s 2ms/step - loss: 0.5783 - accuracy: 0.7134 - val_loss: 0.6319 - val_accuracy: 0.6614\n",
            "Epoch 62/100\n",
            "65/65 [==============================] - 0s 3ms/step - loss: 0.5881 - accuracy: 0.6748 - val_loss: 0.6216 - val_accuracy: 0.6811\n",
            "Epoch 63/100\n",
            "65/65 [==============================] - 0s 2ms/step - loss: 0.6311 - accuracy: 0.6670 - val_loss: 0.6199 - val_accuracy: 0.6693\n",
            "Epoch 64/100\n",
            "65/65 [==============================] - 0s 2ms/step - loss: 0.5263 - accuracy: 0.7437 - val_loss: 0.6199 - val_accuracy: 0.6654\n",
            "Epoch 65/100\n",
            "65/65 [==============================] - 0s 2ms/step - loss: 0.5709 - accuracy: 0.7091 - val_loss: 0.6482 - val_accuracy: 0.5984\n",
            "Epoch 66/100\n",
            "65/65 [==============================] - 0s 2ms/step - loss: 0.5653 - accuracy: 0.6955 - val_loss: 0.6297 - val_accuracy: 0.6614\n",
            "Epoch 67/100\n",
            "65/65 [==============================] - 0s 2ms/step - loss: 0.5913 - accuracy: 0.6853 - val_loss: 0.6180 - val_accuracy: 0.6614\n",
            "Epoch 68/100\n",
            "65/65 [==============================] - 0s 3ms/step - loss: 0.5760 - accuracy: 0.7006 - val_loss: 0.6375 - val_accuracy: 0.6535\n",
            "Epoch 69/100\n",
            "65/65 [==============================] - 0s 2ms/step - loss: 0.5877 - accuracy: 0.7093 - val_loss: 0.6289 - val_accuracy: 0.6575\n",
            "Epoch 70/100\n",
            "65/65 [==============================] - 0s 3ms/step - loss: 0.5516 - accuracy: 0.7221 - val_loss: 0.6173 - val_accuracy: 0.6732\n",
            "Epoch 71/100\n",
            "65/65 [==============================] - 0s 2ms/step - loss: 0.5866 - accuracy: 0.6908 - val_loss: 0.6143 - val_accuracy: 0.6772\n",
            "Epoch 72/100\n",
            "65/65 [==============================] - 0s 3ms/step - loss: 0.5559 - accuracy: 0.7019 - val_loss: 0.6217 - val_accuracy: 0.6693\n",
            "Epoch 73/100\n",
            "65/65 [==============================] - 0s 3ms/step - loss: 0.5600 - accuracy: 0.7181 - val_loss: 0.6448 - val_accuracy: 0.6496\n",
            "Epoch 74/100\n",
            "65/65 [==============================] - 0s 2ms/step - loss: 0.5848 - accuracy: 0.7075 - val_loss: 0.6554 - val_accuracy: 0.6535\n",
            "Epoch 75/100\n",
            "65/65 [==============================] - 0s 2ms/step - loss: 0.5718 - accuracy: 0.7304 - val_loss: 0.6353 - val_accuracy: 0.6575\n",
            "Epoch 76/100\n",
            "65/65 [==============================] - 0s 2ms/step - loss: 0.5846 - accuracy: 0.6961 - val_loss: 0.6207 - val_accuracy: 0.6614\n",
            "Epoch 77/100\n",
            "65/65 [==============================] - 0s 3ms/step - loss: 0.5878 - accuracy: 0.6939 - val_loss: 0.6234 - val_accuracy: 0.6772\n",
            "Epoch 78/100\n",
            "65/65 [==============================] - 0s 3ms/step - loss: 0.5566 - accuracy: 0.7281 - val_loss: 0.6266 - val_accuracy: 0.6693\n",
            "Epoch 79/100\n",
            "65/65 [==============================] - 0s 2ms/step - loss: 0.5434 - accuracy: 0.7274 - val_loss: 0.6264 - val_accuracy: 0.6654\n",
            "Epoch 80/100\n",
            "65/65 [==============================] - 0s 3ms/step - loss: 0.5648 - accuracy: 0.7351 - val_loss: 0.6174 - val_accuracy: 0.6732\n",
            "Epoch 81/100\n",
            "65/65 [==============================] - 0s 2ms/step - loss: 0.5743 - accuracy: 0.6842 - val_loss: 0.6822 - val_accuracy: 0.6614\n",
            "Epoch 82/100\n",
            "65/65 [==============================] - 0s 3ms/step - loss: 0.6204 - accuracy: 0.6664 - val_loss: 0.6205 - val_accuracy: 0.6850\n",
            "Epoch 83/100\n",
            "65/65 [==============================] - 0s 3ms/step - loss: 0.5276 - accuracy: 0.7503 - val_loss: 0.6182 - val_accuracy: 0.6654\n",
            "Epoch 84/100\n",
            "65/65 [==============================] - 0s 3ms/step - loss: 0.5422 - accuracy: 0.7197 - val_loss: 0.6111 - val_accuracy: 0.6772\n",
            "Epoch 85/100\n",
            "65/65 [==============================] - 0s 3ms/step - loss: 0.5688 - accuracy: 0.7202 - val_loss: 0.6431 - val_accuracy: 0.6575\n",
            "Epoch 86/100\n",
            "65/65 [==============================] - 0s 2ms/step - loss: 0.5833 - accuracy: 0.6982 - val_loss: 0.6309 - val_accuracy: 0.6654\n",
            "Epoch 87/100\n",
            "65/65 [==============================] - 0s 2ms/step - loss: 0.5892 - accuracy: 0.6915 - val_loss: 0.6204 - val_accuracy: 0.6614\n",
            "Epoch 88/100\n",
            "65/65 [==============================] - 0s 2ms/step - loss: 0.5513 - accuracy: 0.7352 - val_loss: 0.6217 - val_accuracy: 0.6496\n",
            "Epoch 89/100\n",
            "65/65 [==============================] - 0s 3ms/step - loss: 0.5639 - accuracy: 0.7161 - val_loss: 0.6126 - val_accuracy: 0.6654\n",
            "Epoch 90/100\n",
            "65/65 [==============================] - 0s 3ms/step - loss: 0.5346 - accuracy: 0.7235 - val_loss: 0.6152 - val_accuracy: 0.6693\n",
            "Epoch 91/100\n",
            "65/65 [==============================] - 0s 2ms/step - loss: 0.5705 - accuracy: 0.7084 - val_loss: 0.6223 - val_accuracy: 0.6654\n",
            "Epoch 92/100\n",
            "65/65 [==============================] - 0s 3ms/step - loss: 0.5953 - accuracy: 0.6787 - val_loss: 0.6303 - val_accuracy: 0.6654\n",
            "Epoch 93/100\n",
            "65/65 [==============================] - 0s 2ms/step - loss: 0.5524 - accuracy: 0.7183 - val_loss: 0.6550 - val_accuracy: 0.6299\n",
            "Epoch 94/100\n",
            "65/65 [==============================] - 0s 2ms/step - loss: 0.5922 - accuracy: 0.6942 - val_loss: 0.6184 - val_accuracy: 0.6654\n",
            "Epoch 95/100\n",
            "65/65 [==============================] - 0s 3ms/step - loss: 0.5709 - accuracy: 0.7039 - val_loss: 0.6254 - val_accuracy: 0.6693\n",
            "Epoch 96/100\n",
            "65/65 [==============================] - 0s 3ms/step - loss: 0.5851 - accuracy: 0.6866 - val_loss: 0.6172 - val_accuracy: 0.6654\n",
            "Epoch 97/100\n",
            "65/65 [==============================] - 0s 2ms/step - loss: 0.5559 - accuracy: 0.7168 - val_loss: 0.6296 - val_accuracy: 0.6535\n",
            "Epoch 98/100\n",
            "65/65 [==============================] - 0s 2ms/step - loss: 0.5559 - accuracy: 0.7286 - val_loss: 0.6269 - val_accuracy: 0.6496\n",
            "Epoch 99/100\n",
            "65/65 [==============================] - 0s 3ms/step - loss: 0.5709 - accuracy: 0.7095 - val_loss: 0.6151 - val_accuracy: 0.6693\n",
            "Epoch 100/100\n",
            "65/65 [==============================] - 0s 2ms/step - loss: 0.5407 - accuracy: 0.7322 - val_loss: 0.6247 - val_accuracy: 0.6732\n"
          ],
          "name": "stdout"
        }
      ]
    },
    {
      "cell_type": "code",
      "metadata": {
        "id": "senSDdBrmQk8",
        "outputId": "484e0192-ded5-484c-b9b3-47311f9a70f4",
        "colab": {
          "base_uri": "https://localhost:8080/"
        }
      },
      "source": [
        "#Step 6: Evaluate the neural network model on the test set\n",
        "scores = model.evaluate(X_test, y_test)\n",
        "print(f\"{model.metrics_names[1]}: {100 * scores[1]:.2f} %\")"
      ],
      "execution_count": 8,
      "outputs": [
        {
          "output_type": "stream",
          "text": [
            "8/8 [==============================] - 0s 3ms/step - loss: 0.6247 - accuracy: 0.6732\n",
            "accuracy: 67.32 %\n"
          ],
          "name": "stdout"
        }
      ]
    },
    {
      "cell_type": "code",
      "metadata": {
        "scrolled": true,
        "id": "x4TjqtORmQk8",
        "outputId": "65d5f6b4-4fde-4a4a-cb3f-52fc15677be6",
        "colab": {
          "base_uri": "https://localhost:8080/",
          "height": 295
        }
      },
      "source": [
        "# Step 7: Plot the model accuracy\n",
        "import matplotlib.pyplot as plt\n",
        "plt.plot(history.history['accuracy'], 'b', label='train')\n",
        "plt.plot(history.history['val_accuracy'], 'g', label='test')\n",
        "plt.xlabel('Epoch')\n",
        "plt.ylabel('Accuracy')\n",
        "plt.title('Model Accuracy')\n",
        "plt.legend(loc='best')\n",
        "plt.show()"
      ],
      "execution_count": 9,
      "outputs": [
        {
          "output_type": "display_data",
          "data": {
            "image/png": "[encoded data removed]",
            "text/plain": [
              "<Figure size 432x288 with 1 Axes>"
            ]
          },
          "metadata": {
            "tags": [],
            "needs_background": "light"
          }
        }
      ]
    },
    {
      "cell_type": "code",
      "metadata": {
        "id": "JHdvCeZPmQk8"
      },
      "source": [
        "# To do: Plot the model loss for both training and testing data\n"
      ],
      "execution_count": 10,
      "outputs": []
    }
  ]
}