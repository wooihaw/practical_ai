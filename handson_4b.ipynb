{
  "nbformat": 4,
  "nbformat_minor": 0,
  "metadata": {
    "kernelspec": {
      "display_name": "Python 3",
      "language": "python",
      "name": "python3"
    },
    "language_info": {
      "codemirror_mode": {
        "name": "ipython",
        "version": 3
      },
      "file_extension": ".py",
      "mimetype": "text/x-python",
      "name": "python",
      "nbconvert_exporter": "python",
      "pygments_lexer": "ipython3",
      "version": "3.8.5"
    },
    "colab": {
      "name": "handson_4b.ipynb",
      "provenance": [],
      "include_colab_link": true
    },
    "accelerator": "GPU"
  },
  "cells": [
    {
      "cell_type": "markdown",
      "metadata": {
        "id": "view-in-github",
        "colab_type": "text"
      },
      "source": [
        "<a href=\"https://colab.research.google.com/github/wooihaw/practical_ai/blob/main/handson_4b.ipynb\" target=\"_parent\"><img src=\"https://colab.research.google.com/assets/colab-badge.svg\" alt=\"Open In Colab\"/></a>"
      ]
    },
    {
      "cell_type": "code",
      "metadata": {
        "id": "UbUCxeNpeSXO"
      },
      "source": [
        "%matplotlib inline\n",
        "from warnings import filterwarnings\n",
        "filterwarnings('ignore')"
      ],
      "execution_count": null,
      "outputs": []
    },
    {
      "cell_type": "code",
      "metadata": {
        "id": "w1MBU0qbeSXT"
      },
      "source": [
        "# Plot ad hoc mnist instances\n",
        "from tensorflow.keras.datasets import mnist\n",
        "import matplotlib.pyplot as plt\n",
        "# load (downloaded if needed) the MNIST dataset\n",
        "(X_train, y_train), (X_test, y_test) = mnist.load_data()\n",
        "# plot 4 images as gray scale\n",
        "sp1 = plt.subplot(141)\n",
        "sp1.axis(False)\n",
        "sp1.set_title(y_train[0])\n",
        "sp1.imshow(X_train[0], cmap=plt.get_cmap('gray'))\n",
        "sp2 = plt.subplot(142)\n",
        "sp2.axis(False)\n",
        "sp2.set_title(y_train[1])\n",
        "sp2.imshow(X_train[1], cmap=plt.get_cmap('gray'))\n",
        "sp3 = plt.subplot(143)\n",
        "sp3.axis(False)\n",
        "sp3.set_title(y_train[2])\n",
        "sp3.imshow(X_train[2], cmap=plt.get_cmap('gray'))\n",
        "sp4 = plt.subplot(144)\n",
        "sp4.axis(False)\n",
        "sp4.set_title(y_train[3])\n",
        "sp4.imshow(X_train[3], cmap=plt.get_cmap('gray'))\n",
        "# show the plot\n",
        "plt.tight_layout()\n",
        "plt.show()"
      ],
      "execution_count": null,
      "outputs": []
    },
    {
      "cell_type": "code",
      "metadata": {
        "id": "mUUzkY3ieSXU"
      },
      "source": [
        "# Basic MLP for MNIST dataset\n",
        "import numpy as np\n",
        "from tensorflow.keras.datasets import mnist\n",
        "from tensorflow.keras.models import Sequential\n",
        "from tensorflow.keras.layers import Dense\n",
        "from tensorflow.keras.utils import to_categorical\n",
        "from tensorflow.keras.optimizers import SGD, RMSprop, Adam\n",
        "# fix random seed for reproducibility\n",
        "seed = 7\n",
        "np.random.seed(seed)\n",
        "# load data\n",
        "(X_train, y_train), (X_test, y_test) = mnist.load_data()\n",
        "# flatten 28*28 images to a 784 vector for each image\n",
        "num_pixels = X_train.shape[1] * X_train.shape[2]\n",
        "X_train = X_train.reshape(X_train.shape[0], num_pixels).astype('float32')\n",
        "X_test = X_test.reshape(X_test.shape[0], num_pixels).astype('float32')\n",
        "# normalize inputs from 0-255 to 0-1\n",
        "X_train = X_train / 255\n",
        "X_test = X_test / 255\n",
        "\n",
        "# one hot encode outputs\n",
        "y_train = to_categorical(y_train)\n",
        "y_test = to_categorical(y_test)\n",
        "num_classes = y_test.shape[1]\n",
        "# define basic MLP model\n",
        "# create model\n",
        "model = Sequential()\n",
        "model.add(Dense(num_pixels, input_dim=num_pixels, kernel_initializer='normal', activation='relu'))\n",
        "model.add(Dense(num_classes, kernel_initializer='normal', activation='softmax'))\n",
        "\n",
        "# To do: Try with other optimizers (RMSprop, Adam)\n",
        "opt = SGD(learning_rate=0.01)\n",
        "\n",
        "# Compile model\n",
        "model.compile(loss='categorical_crossentropy', optimizer=opt, metrics=['accuracy'])\n",
        "# Fit the model\n",
        "history = model.fit(X_train, y_train, validation_data=(X_test, y_test), epochs=20, batch_size=200, verbose=2)\n",
        "# Final evaluation of the model\n",
        "scores = model.evaluate(X_test, y_test, verbose=0)\n",
        "print(f\"Error: {100-scores[1]*100:.2f}\")"
      ],
      "execution_count": null,
      "outputs": []
    },
    {
      "cell_type": "code",
      "metadata": {
        "id": "aWjdmhLAeSXV"
      },
      "source": [
        "# Plot the accuracy and loss for both training and validation data\n",
        "import matplotlib.pyplot as plt\n",
        "plt.plot(history.history['accuracy'], 'b', label='train')\n",
        "plt.plot(history.history['val_accuracy'], 'g', label='test')\n",
        "plt.xlabel('Epoch')\n",
        "plt.ylabel('Accuracy')\n",
        "plt.title('Model Accuracy')\n",
        "plt.legend(loc='best')\n",
        "plt.show()\n",
        "\n",
        "plt.plot(history.history['loss'], 'b', label='train')\n",
        "plt.plot(history.history['val_loss'], 'g', label='test')\n",
        "plt.xlabel('Epoch')\n",
        "plt.ylabel('Loss')\n",
        "plt.title('Model Loss')\n",
        "plt.legend(loc='best')\n",
        "plt.show()"
      ],
      "execution_count": null,
      "outputs": []
    },
    {
      "cell_type": "code",
      "metadata": {
        "id": "AUZQ5gIEeSXU"
      },
      "source": [
        "# Make predition (change index to a number between 0 and 9999)\n",
        "try:\n",
        "  index = int(input(\"Enter an index between 0 and 9999: \"))\n",
        "  assert 0 <= index < 10000, \"The index should be between 0 and 9999\"\n",
        "except Exception as e:\n",
        "  print(\"Error: \", e)\n",
        "else:\n",
        "  res = model.predict(X_test[index].reshape(1, 784))\n",
        "  print(res)\n",
        "  print(f'Predicted label: {np.argmax(res)}')\n",
        "\n",
        "  # Display the test image and show the actual label\n",
        "  plt.axis(False)\n",
        "  plt.title(f'Actual label: {y_test[index].argmax()}')\n",
        "  plt.imshow(X_test[index].reshape(28, 28) * 255, cmap='gray')\n",
        "  plt.show()"
      ],
      "execution_count": null,
      "outputs": []
    }
  ]
}