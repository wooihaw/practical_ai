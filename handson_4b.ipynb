{
  "nbformat": 4,
  "nbformat_minor": 0,
  "metadata": {
    "kernelspec": {
      "display_name": "Python 3",
      "language": "python",
      "name": "python3"
    },
    "language_info": {
      "codemirror_mode": {
        "name": "ipython",
        "version": 3
      },
      "file_extension": ".py",
      "mimetype": "text/x-python",
      "name": "python",
      "nbconvert_exporter": "python",
      "pygments_lexer": "ipython3",
      "version": "3.8.5"
    },
    "colab": {
      "name": "handson_4b.ipynb",
      "provenance": [],
      "include_colab_link": true
    },
    "accelerator": "GPU"
  },
  "cells": [
    {
      "cell_type": "markdown",
      "metadata": {
        "id": "view-in-github",
        "colab_type": "text"
      },
      "source": [
        "<a href=\"https://colab.research.google.com/github/wooihaw/practical_ai/blob/main/handson_4b.ipynb\" target=\"_parent\"><img src=\"https://colab.research.google.com/assets/colab-badge.svg\" alt=\"Open In Colab\"/></a>"
      ]
    },
    {
      "cell_type": "code",
      "metadata": {
        "id": "UbUCxeNpeSXO"
      },
      "source": [
        "%matplotlib inline\n",
        "from warnings import filterwarnings\n",
        "filterwarnings('ignore')"
      ],
      "execution_count": 1,
      "outputs": []
    },
    {
      "cell_type": "code",
      "metadata": {
        "id": "w1MBU0qbeSXT",
        "outputId": "ac75e8f6-2bb1-4bfe-fb29-5213feb702b8",
        "colab": {
          "base_uri": "https://localhost:8080/",
          "height": 193
        }
      },
      "source": [
        "# Plot ad hoc mnist instances\n",
        "from tensorflow.keras.datasets import mnist\n",
        "import matplotlib.pyplot as plt\n",
        "# load (downloaded if needed) the MNIST dataset\n",
        "(X_train, y_train), (X_test, y_test) = mnist.load_data()\n",
        "# plot 4 images as gray scale\n",
        "sp1 = plt.subplot(141)\n",
        "sp1.axis(False)\n",
        "sp1.set_title(y_train[0])\n",
        "sp1.imshow(X_train[0], cmap=plt.get_cmap('gray'))\n",
        "sp2 = plt.subplot(142)\n",
        "sp2.axis(False)\n",
        "sp2.set_title(y_train[1])\n",
        "sp2.imshow(X_train[1], cmap=plt.get_cmap('gray'))\n",
        "sp3 = plt.subplot(143)\n",
        "sp3.axis(False)\n",
        "sp3.set_title(y_train[2])\n",
        "sp3.imshow(X_train[2], cmap=plt.get_cmap('gray'))\n",
        "sp4 = plt.subplot(144)\n",
        "sp4.axis(False)\n",
        "sp4.set_title(y_train[3])\n",
        "sp4.imshow(X_train[3], cmap=plt.get_cmap('gray'))\n",
        "# show the plot\n",
        "plt.tight_layout()\n",
        "plt.show()"
      ],
      "execution_count": 2,
      "outputs": [
        {
          "output_type": "stream",
          "name": "stdout",
          "text": [
            "Downloading data from https://storage.googleapis.com/tensorflow/tf-keras-datasets/mnist.npz\n",
            "11493376/11490434 [==============================] - 0s 0us/step\n",
            "11501568/11490434 [==============================] - 0s 0us/step\n"
          ]
        },
        {
          "output_type": "display_data",
          "data": {
            "image/png": "[encoded data removed]",
            "text/plain": [
              "<Figure size 432x288 with 4 Axes>"
            ]
          },
          "metadata": {
            "needs_background": "light"
          }
        }
      ]
    },
    {
      "cell_type": "code",
      "metadata": {
        "id": "mUUzkY3ieSXU",
        "outputId": "5445691a-93a7-4a26-fdee-f8bfb6490e8c",
        "colab": {
          "base_uri": "https://localhost:8080/"
        }
      },
      "source": [
        "# Basic MLP for MNIST dataset\n",
        "import numpy as np\n",
        "from tensorflow.keras.datasets import mnist\n",
        "from tensorflow.keras.models import Sequential\n",
        "from tensorflow.keras.layers import Dense\n",
        "from tensorflow.keras.utils import to_categorical\n",
        "from tensorflow.keras.optimizers import SGD, RMSprop, Adam\n",
        "# fix random seed for reproducibility\n",
        "seed = 7\n",
        "np.random.seed(seed)\n",
        "# load data\n",
        "(X_train, y_train), (X_test, y_test) = mnist.load_data()\n",
        "# flatten 28*28 images to a 784 vector for each image\n",
        "num_pixels = X_train.shape[1] * X_train.shape[2]\n",
        "X_train = X_train.reshape(X_train.shape[0], num_pixels).astype('float32')\n",
        "X_test = X_test.reshape(X_test.shape[0], num_pixels).astype('float32')\n",
        "# normalize inputs from 0-255 to 0-1\n",
        "X_train = X_train / 255\n",
        "X_test = X_test / 255\n",
        "\n",
        "# one hot encode outputs\n",
        "y_train = to_categorical(y_train)\n",
        "y_test = to_categorical(y_test)\n",
        "num_classes = y_test.shape[1]\n",
        "# define basic MLP model\n",
        "# create model\n",
        "model = Sequential()\n",
        "model.add(Dense(num_pixels, input_dim=num_pixels, kernel_initializer='normal', activation='relu'))\n",
        "\n",
        "# To do: Add another fully-connected (dense) layer here\n",
        "\n",
        "model.add(Dense(num_classes, kernel_initializer='normal', activation='softmax'))\n",
        "\n",
        "# To do: Try with other optimizers (RMSprop, Adam)\n",
        "opt = SGD(lr=0.01)\n",
        "\n",
        "# Compile model\n",
        "model.compile(loss='categorical_crossentropy', optimizer=opt, metrics=['accuracy'])\n",
        "# Fit the model\n",
        "history = model.fit(X_train, y_train, validation_data=(X_test, y_test), epochs=20, batch_size=200, verbose=2)\n",
        "# Final evaluation of the model\n",
        "scores = model.evaluate(X_test, y_test, verbose=0)\n",
        "print(f\"Error: {100-scores[1]*100:.2f}\")"
      ],
      "execution_count": 3,
      "outputs": [
        {
          "output_type": "stream",
          "name": "stdout",
          "text": [
            "Epoch 1/20\n",
            "300/300 - 3s - loss: 1.2216 - accuracy: 0.7238 - val_loss: 0.7033 - val_accuracy: 0.8505 - 3s/epoch - 11ms/step\n",
            "Epoch 2/20\n",
            "300/300 - 1s - loss: 0.6024 - accuracy: 0.8599 - val_loss: 0.4937 - val_accuracy: 0.8814 - 1s/epoch - 4ms/step\n",
            "Epoch 3/20\n",
            "300/300 - 1s - loss: 0.4730 - accuracy: 0.8809 - val_loss: 0.4165 - val_accuracy: 0.8946 - 1s/epoch - 4ms/step\n",
            "Epoch 4/20\n",
            "300/300 - 1s - loss: 0.4145 - accuracy: 0.8916 - val_loss: 0.3743 - val_accuracy: 0.9028 - 1s/epoch - 4ms/step\n",
            "Epoch 5/20\n",
            "300/300 - 1s - loss: 0.3795 - accuracy: 0.8988 - val_loss: 0.3484 - val_accuracy: 0.9072 - 1s/epoch - 4ms/step\n",
            "Epoch 6/20\n",
            "300/300 - 1s - loss: 0.3554 - accuracy: 0.9039 - val_loss: 0.3289 - val_accuracy: 0.9113 - 1s/epoch - 4ms/step\n",
            "Epoch 7/20\n",
            "300/300 - 1s - loss: 0.3372 - accuracy: 0.9077 - val_loss: 0.3136 - val_accuracy: 0.9131 - 1s/epoch - 4ms/step\n",
            "Epoch 8/20\n",
            "300/300 - 1s - loss: 0.3227 - accuracy: 0.9109 - val_loss: 0.3014 - val_accuracy: 0.9166 - 1s/epoch - 4ms/step\n",
            "Epoch 9/20\n",
            "300/300 - 1s - loss: 0.3108 - accuracy: 0.9140 - val_loss: 0.2921 - val_accuracy: 0.9183 - 1s/epoch - 4ms/step\n",
            "Epoch 10/20\n",
            "300/300 - 1s - loss: 0.3005 - accuracy: 0.9164 - val_loss: 0.2831 - val_accuracy: 0.9209 - 1s/epoch - 4ms/step\n",
            "Epoch 11/20\n",
            "300/300 - 1s - loss: 0.2916 - accuracy: 0.9190 - val_loss: 0.2756 - val_accuracy: 0.9223 - 1s/epoch - 3ms/step\n",
            "Epoch 12/20\n",
            "300/300 - 1s - loss: 0.2835 - accuracy: 0.9210 - val_loss: 0.2691 - val_accuracy: 0.9252 - 1s/epoch - 4ms/step\n",
            "Epoch 13/20\n",
            "300/300 - 1s - loss: 0.2763 - accuracy: 0.9233 - val_loss: 0.2623 - val_accuracy: 0.9265 - 1s/epoch - 4ms/step\n",
            "Epoch 14/20\n",
            "300/300 - 1s - loss: 0.2697 - accuracy: 0.9250 - val_loss: 0.2567 - val_accuracy: 0.9279 - 1s/epoch - 4ms/step\n",
            "Epoch 15/20\n",
            "300/300 - 1s - loss: 0.2635 - accuracy: 0.9269 - val_loss: 0.2519 - val_accuracy: 0.9298 - 1s/epoch - 4ms/step\n",
            "Epoch 16/20\n",
            "300/300 - 1s - loss: 0.2578 - accuracy: 0.9286 - val_loss: 0.2467 - val_accuracy: 0.9307 - 1s/epoch - 4ms/step\n",
            "Epoch 17/20\n",
            "300/300 - 1s - loss: 0.2525 - accuracy: 0.9296 - val_loss: 0.2418 - val_accuracy: 0.9318 - 1s/epoch - 4ms/step\n",
            "Epoch 18/20\n",
            "300/300 - 1s - loss: 0.2474 - accuracy: 0.9312 - val_loss: 0.2380 - val_accuracy: 0.9336 - 1s/epoch - 4ms/step\n",
            "Epoch 19/20\n",
            "300/300 - 1s - loss: 0.2428 - accuracy: 0.9324 - val_loss: 0.2333 - val_accuracy: 0.9342 - 1s/epoch - 4ms/step\n",
            "Epoch 20/20\n",
            "300/300 - 1s - loss: 0.2382 - accuracy: 0.9337 - val_loss: 0.2300 - val_accuracy: 0.9354 - 1s/epoch - 4ms/step\n",
            "Error: 6.46\n"
          ]
        }
      ]
    },
    {
      "cell_type": "code",
      "metadata": {
        "id": "AUZQ5gIEeSXU",
        "outputId": "815246ca-1750-4e6e-8194-e039b8469c54",
        "colab": {
          "base_uri": "https://localhost:8080/",
          "height": 316
        }
      },
      "source": [
        "# Make predition (change index to a number between 0 and 9999)\n",
        "index = 1111\n",
        "res = model.predict(X_test[index].reshape(1, 784))\n",
        "print(res)\n",
        "print(f'Predicted label: {np.argmax(res)}')\n",
        "\n",
        "# Display the test image and show the actual label\n",
        "plt.axis(False)\n",
        "plt.title(f'Actual label: {y_test[index].argmax()}')\n",
        "plt.imshow(X_test[index].reshape(28, 28) * 255, cmap='gray')\n",
        "plt.show()"
      ],
      "execution_count": 4,
      "outputs": [
        {
          "output_type": "stream",
          "name": "stdout",
          "text": [
            "[[7.8067296e-06 2.2115016e-06 7.6763543e-05 1.8795505e-05 9.6666360e-01\n",
            "  1.0463404e-04 3.3465237e-04 3.1064907e-03 1.8090145e-03 2.7876016e-02]]\n",
            "Predicted label: 4\n"
          ]
        },
        {
          "output_type": "display_data",
          "data": {
            "image/png": "[encoded data removed]",
            "text/plain": [
              "<Figure size 432x288 with 1 Axes>"
            ]
          },
          "metadata": {
            "needs_background": "light"
          }
        }
      ]
    },
    {
      "cell_type": "code",
      "metadata": {
        "id": "aWjdmhLAeSXV"
      },
      "source": [
        "# To do: Plot the accuracy and loss for both training and validation data\n",
        "import matplotlib.pyplot as plt\n"
      ],
      "execution_count": 5,
      "outputs": []
    }
  ]
}