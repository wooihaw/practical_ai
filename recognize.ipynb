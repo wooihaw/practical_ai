{
 "cells": [
  {
   "cell_type": "code",
   "execution_count": 8,
   "metadata": {},
   "outputs": [
    {
     "name": "stdout",
     "output_type": "stream",
     "text": [
      "Loaded model from disk\n"
     ]
    }
   ],
   "source": [
    "from tensorflow.keras.models import model_from_json\n",
    "from json import load\n",
    "\n",
    "# load json and create model\n",
    "json_file = open('model.json', 'r')\n",
    "model_json = json_file.read()\n",
    "json_file.close()\n",
    "model = model_from_json(model_json)\n",
    "# load weights into new model\n",
    "model.load_weights(\"model.h5\")\n",
    "\n",
    "# load class indices\n",
    "with open('class_indices.json', 'r') as f:\n",
    "    class_indices = load(f)\n",
    "\n",
    "print(\"Loaded model from disk\")"
   ]
  },
  {
   "cell_type": "code",
   "execution_count": 9,
   "metadata": {},
   "outputs": [
    {
     "name": "stdout",
     "output_type": "stream",
     "text": [
      "{'cats': 0, 'panda': 1, 'raccoons': 2}\n",
      "cats\n"
     ]
    }
   ],
   "source": [
    "# Test model on new image\n",
    "from tensorflow.keras.preprocessing.image import load_img, img_to_array\n",
    "import numpy as np\n",
    "fn = 'animal01.jpg'\n",
    "img = load_img(fn, target_size=(150, 150))\n",
    "x = img_to_array(img)/255.\n",
    "x = np.expand_dims(x, axis=0)\n",
    "\n",
    "classes = model.predict(x, batch_size=10)\n",
    "print(class_indices)\n",
    "map2class = {class_indices[k]:k for k in class_indices}\n",
    "print(map2class[classes.argmax()])\n"
   ]
  },
  {
   "cell_type": "code",
   "execution_count": null,
   "metadata": {},
   "outputs": [],
   "source": []
  }
 ],
 "metadata": {
  "kernelspec": {
   "display_name": "Python 3",
   "language": "python",
   "name": "python3"
  },
  "language_info": {
   "codemirror_mode": {
    "name": "ipython",
    "version": 3
   },
   "file_extension": ".py",
   "mimetype": "text/x-python",
   "name": "python",
   "nbconvert_exporter": "python",
   "pygments_lexer": "ipython3",
   "version": "3.8.3"
  }
 },
 "nbformat": 4,
 "nbformat_minor": 4
}
