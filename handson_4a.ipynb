{
  "nbformat": 4,
  "nbformat_minor": 0,
  "metadata": {
    "kernelspec": {
      "display_name": "Python 3",
      "language": "python",
      "name": "python3"
    },
    "language_info": {
      "codemirror_mode": {
        "name": "ipython",
        "version": 3
      },
      "file_extension": ".py",
      "mimetype": "text/x-python",
      "name": "python",
      "nbconvert_exporter": "python",
      "pygments_lexer": "ipython3",
      "version": "3.8.5"
    },
    "colab": {
      "name": "handson_4a.ipynb",
      "provenance": [],
      "include_colab_link": true
    }
  },
  "cells": [
    {
      "cell_type": "markdown",
      "metadata": {
        "id": "view-in-github",
        "colab_type": "text"
      },
      "source": [
        "<a href=\"https://colab.research.google.com/github/wooihaw/practical_ai/blob/main/handson_4a.ipynb\" target=\"_parent\"><img src=\"https://colab.research.google.com/assets/colab-badge.svg\" alt=\"Open In Colab\"/></a>"
      ]
    },
    {
      "cell_type": "code",
      "metadata": {
        "id": "iP2IZTHtmQk5"
      },
      "source": [
        "#Step 1: Load libraries and seed random number generator\n",
        "from tensorflow.keras.models import Sequential\n",
        "from tensorflow.keras.layers import Dense\n",
        "from sklearn.model_selection import train_test_split as split\n",
        "from tensorflow.keras.optimizers import SGD\n",
        "# To do: Import StandardScaler from sklearn.preprocessing\n",
        "\n",
        "# To do: Import EarlyStopping from tensorflow.keras.callbacks\n",
        "\n",
        "import numpy\n",
        "numpy.random.seed(7)  # fix random seed for reproducibility"
      ],
      "execution_count": null,
      "outputs": []
    },
    {
      "cell_type": "code",
      "metadata": {
        "id": "q5xjTUq5mQk6"
      },
      "source": [
        "#Step 2: Load the dataset and split it into train & test sets\n",
        "dataset = numpy.loadtxt(\"https://raw.githubusercontent.com/wooihaw/datasets/main/pima-indians-diabetes.data.csv\", delimiter=\",\")\n",
        "# split into input (X) and output (Y) variables\n",
        "X = dataset[:,:-1]\n",
        "y = dataset[:,-1]\n",
        "test_size = 0.33\n",
        "X_train, X_test, y_train, y_test = split(X, y, test_size=test_size, random_state=7)\n",
        "\n",
        "# To do: Scale fetures using StandardSCaler\n"
      ],
      "execution_count": null,
      "outputs": []
    },
    {
      "cell_type": "code",
      "metadata": {
        "id": "2848nySMmQk7"
      },
      "source": [
        "#Step 3: Define the neural network model\n",
        "model = Sequential()\n",
        "model.add(Dense(12, input_dim=8, activation='relu'))\n",
        "model.add(Dense(8, activation='relu'))\n",
        "model.add(Dense(1, activation='sigmoid'))"
      ],
      "execution_count": null,
      "outputs": []
    },
    {
      "cell_type": "code",
      "metadata": {
        "id": "TEYpb2ADmQk7"
      },
      "source": [
        "#Step 4: Compile the neural network model\n",
        "model.compile(loss='binary_crossentropy', optimizer=SGD(learning_rate=0.01), metrics=['accuracy'])"
      ],
      "execution_count": null,
      "outputs": []
    },
    {
      "cell_type": "code",
      "metadata": {
        "scrolled": true,
        "id": "LFfYyNuamQk7"
      },
      "source": [
        "#Step 5: Fit the neural network to the dataset\n",
        "# To do: Add early stopping\n",
        "history = model.fit(X_train, y_train, validation_data=(X_test, y_test), epochs=100, batch_size=8)"
      ],
      "execution_count": null,
      "outputs": []
    },
    {
      "cell_type": "code",
      "metadata": {
        "id": "senSDdBrmQk8"
      },
      "source": [
        "#Step 6: Evaluate the neural network model on the test set\n",
        "scores = model.evaluate(X_test, y_test)\n",
        "print(f\"{model.metrics_names[0]}: {scores[0]:.2f}\")\n",
        "print(f\"{model.metrics_names[1]}: {scores[1]:.2%}\")"
      ],
      "execution_count": null,
      "outputs": []
    },
    {
      "cell_type": "code",
      "metadata": {
        "scrolled": true,
        "id": "x4TjqtORmQk8"
      },
      "source": [
        "# Step 7: Plot the model accuracy\n",
        "import matplotlib.pyplot as plt\n",
        "plt.plot(history.history['accuracy'], 'b', label='train')\n",
        "plt.plot(history.history['val_accuracy'], 'g', label='test')\n",
        "plt.xlabel('Epoch')\n",
        "plt.ylabel('Accuracy')\n",
        "plt.title('Model Accuracy')\n",
        "plt.legend(loc='best')\n",
        "plt.show()"
      ],
      "execution_count": null,
      "outputs": []
    },
    {
      "cell_type": "code",
      "metadata": {
        "id": "JHdvCeZPmQk8"
      },
      "source": [
        "# To do: Plot the model loss for both training and testing data\n"
      ],
      "execution_count": null,
      "outputs": []
    }
  ]
}